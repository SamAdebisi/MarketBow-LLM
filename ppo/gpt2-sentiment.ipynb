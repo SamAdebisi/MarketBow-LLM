{
 "cells": [
  {
   "cell_type": "code",
   "execution_count": null,
   "metadata": {},
   "outputs": [],
   "source": [
    "import os \n",
    "os.environ[\"CUDA_VISIBLE_DEVICES\"]=\"0\"\n",
    "from peft import PeftModel, PeftConfig \n",
    "from transformers import AutoTokenizer, AutoModelForCausalLM, TextIteratorStreamer, TextStreamer \n",
    "import torch \n",
    "from threading import Thread \n",
    "import gradio as gr "
   ]
  }
 ],
 "metadata": {
  "language_info": {
   "name": "python"
  }
 },
 "nbformat": 4,
 "nbformat_minor": 2
}
